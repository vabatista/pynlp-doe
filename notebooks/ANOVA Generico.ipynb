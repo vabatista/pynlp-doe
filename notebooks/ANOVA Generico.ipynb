{
 "cells": [
  {
   "cell_type": "code",
   "execution_count": 1,
   "id": "9c6bd8db-3e91-44fb-abef-e6b8ba03db90",
   "metadata": {
    "tags": []
   },
   "outputs": [],
   "source": [
    "import pandas as pd\n",
    "import pingouin as pg\n",
    "import numpy as np\n",
    "from itertools import product"
   ]
  },
  {
   "cell_type": "code",
   "execution_count": 2,
   "id": "5c1c1a49-5433-49f9-8f68-55992a902e08",
   "metadata": {},
   "outputs": [],
   "source": [
    "\n",
    "factors = ['FatorA' ,'FatorB', 'FatorC']\n",
    "levels_list = [['low','high'],['L','H'],['-','+','++']]\n",
    "replicates = 5\n",
    "total = np.prod([len(x) for x in levels_list]) * replicates\n",
    "y_measures = np.random.rand(total) #([28,25,27,18,19,23,36,32,32,31,30,29,28,25,22,18,19,23,12,32,40,31,30,29])"
   ]
  },
  {
   "cell_type": "code",
   "execution_count": 3,
   "id": "8cfa8438-3247-48dc-ac7f-6ebc55dae00b",
   "metadata": {
    "tags": []
   },
   "outputs": [],
   "source": [
    "def generate_dataframe(measures, factors, levels_list, replicates):\n",
    "    \n",
    "    lines = []\n",
    "    for factor_combination in product(*levels_list):\n",
    "        line = {}\n",
    "        for idx, factor in enumerate(factors):\n",
    "            line[factor] = factor_combination[idx]\n",
    "        for k in range(replicates):\n",
    "            lines.append(line)\n",
    "    df = pd.DataFrame(lines,columns=factors)\n",
    "    df['y'] = measures\n",
    "    #df['trial'] = list(range(replicates)) * int(len(measures) / replicates)\n",
    "    return df"
   ]
  },
  {
   "cell_type": "code",
   "execution_count": 4,
   "id": "a3fe4fcf-d25a-41a1-b8e4-817fb39c2445",
   "metadata": {
    "tags": []
   },
   "outputs": [],
   "source": [
    "df = generate_dataframe(y_measures, factors, levels_list, replicates)"
   ]
  },
  {
   "cell_type": "code",
   "execution_count": 6,
   "id": "dc9031d4-9040-4bc2-8d92-e8704fb8f5f0",
   "metadata": {
    "tags": []
   },
   "outputs": [
    {
     "data": {
      "text/html": [
       "<div>\n",
       "<style scoped>\n",
       "    .dataframe tbody tr th:only-of-type {\n",
       "        vertical-align: middle;\n",
       "    }\n",
       "\n",
       "    .dataframe tbody tr th {\n",
       "        vertical-align: top;\n",
       "    }\n",
       "\n",
       "    .dataframe thead th {\n",
       "        text-align: right;\n",
       "    }\n",
       "</style>\n",
       "<table border=\"1\" class=\"dataframe\">\n",
       "  <thead>\n",
       "    <tr style=\"text-align: right;\">\n",
       "      <th></th>\n",
       "      <th>FatorA</th>\n",
       "      <th>FatorB</th>\n",
       "      <th>FatorC</th>\n",
       "      <th>y</th>\n",
       "    </tr>\n",
       "  </thead>\n",
       "  <tbody>\n",
       "    <tr>\n",
       "      <th>0</th>\n",
       "      <td>low</td>\n",
       "      <td>L</td>\n",
       "      <td>-</td>\n",
       "      <td>0.016975</td>\n",
       "    </tr>\n",
       "    <tr>\n",
       "      <th>1</th>\n",
       "      <td>low</td>\n",
       "      <td>L</td>\n",
       "      <td>-</td>\n",
       "      <td>0.813731</td>\n",
       "    </tr>\n",
       "    <tr>\n",
       "      <th>2</th>\n",
       "      <td>low</td>\n",
       "      <td>L</td>\n",
       "      <td>-</td>\n",
       "      <td>0.540931</td>\n",
       "    </tr>\n",
       "    <tr>\n",
       "      <th>3</th>\n",
       "      <td>low</td>\n",
       "      <td>L</td>\n",
       "      <td>-</td>\n",
       "      <td>0.127740</td>\n",
       "    </tr>\n",
       "    <tr>\n",
       "      <th>4</th>\n",
       "      <td>low</td>\n",
       "      <td>L</td>\n",
       "      <td>-</td>\n",
       "      <td>0.110234</td>\n",
       "    </tr>\n",
       "  </tbody>\n",
       "</table>\n",
       "</div>"
      ],
      "text/plain": [
       "  FatorA FatorB FatorC         y\n",
       "0    low      L      -  0.016975\n",
       "1    low      L      -  0.813731\n",
       "2    low      L      -  0.540931\n",
       "3    low      L      -  0.127740\n",
       "4    low      L      -  0.110234"
      ]
     },
     "execution_count": 6,
     "metadata": {},
     "output_type": "execute_result"
    }
   ],
   "source": [
    "df.head()"
   ]
  },
  {
   "cell_type": "code",
   "execution_count": 7,
   "id": "89fb82c1-cdec-4356-955e-4176868844b0",
   "metadata": {
    "tags": []
   },
   "outputs": [
    {
     "data": {
      "text/html": [
       "<div>\n",
       "<style scoped>\n",
       "    .dataframe tbody tr th:only-of-type {\n",
       "        vertical-align: middle;\n",
       "    }\n",
       "\n",
       "    .dataframe tbody tr th {\n",
       "        vertical-align: top;\n",
       "    }\n",
       "\n",
       "    .dataframe thead th {\n",
       "        text-align: right;\n",
       "    }\n",
       "</style>\n",
       "<table border=\"1\" class=\"dataframe\">\n",
       "  <thead>\n",
       "    <tr style=\"text-align: right;\">\n",
       "      <th></th>\n",
       "      <th>Source</th>\n",
       "      <th>SS</th>\n",
       "      <th>DF</th>\n",
       "      <th>MS</th>\n",
       "      <th>F</th>\n",
       "      <th>p-unc</th>\n",
       "      <th>np2</th>\n",
       "    </tr>\n",
       "  </thead>\n",
       "  <tbody>\n",
       "    <tr>\n",
       "      <th>0</th>\n",
       "      <td>FatorA</td>\n",
       "      <td>0.253</td>\n",
       "      <td>1.0</td>\n",
       "      <td>0.253</td>\n",
       "      <td>3.111</td>\n",
       "      <td>0.084</td>\n",
       "      <td>0.061</td>\n",
       "    </tr>\n",
       "    <tr>\n",
       "      <th>1</th>\n",
       "      <td>FatorB</td>\n",
       "      <td>0.140</td>\n",
       "      <td>1.0</td>\n",
       "      <td>0.140</td>\n",
       "      <td>1.722</td>\n",
       "      <td>0.196</td>\n",
       "      <td>0.035</td>\n",
       "    </tr>\n",
       "    <tr>\n",
       "      <th>2</th>\n",
       "      <td>FatorC</td>\n",
       "      <td>0.000</td>\n",
       "      <td>2.0</td>\n",
       "      <td>0.000</td>\n",
       "      <td>0.001</td>\n",
       "      <td>0.999</td>\n",
       "      <td>0.000</td>\n",
       "    </tr>\n",
       "    <tr>\n",
       "      <th>3</th>\n",
       "      <td>FatorA * FatorB</td>\n",
       "      <td>0.021</td>\n",
       "      <td>1.0</td>\n",
       "      <td>0.021</td>\n",
       "      <td>0.263</td>\n",
       "      <td>0.611</td>\n",
       "      <td>0.005</td>\n",
       "    </tr>\n",
       "    <tr>\n",
       "      <th>4</th>\n",
       "      <td>FatorA * FatorC</td>\n",
       "      <td>0.271</td>\n",
       "      <td>2.0</td>\n",
       "      <td>0.136</td>\n",
       "      <td>1.664</td>\n",
       "      <td>0.200</td>\n",
       "      <td>0.065</td>\n",
       "    </tr>\n",
       "    <tr>\n",
       "      <th>5</th>\n",
       "      <td>FatorB * FatorC</td>\n",
       "      <td>0.479</td>\n",
       "      <td>2.0</td>\n",
       "      <td>0.239</td>\n",
       "      <td>2.940</td>\n",
       "      <td>0.062</td>\n",
       "      <td>0.109</td>\n",
       "    </tr>\n",
       "    <tr>\n",
       "      <th>6</th>\n",
       "      <td>FatorA * FatorB * FatorC</td>\n",
       "      <td>0.020</td>\n",
       "      <td>2.0</td>\n",
       "      <td>0.010</td>\n",
       "      <td>0.120</td>\n",
       "      <td>0.887</td>\n",
       "      <td>0.005</td>\n",
       "    </tr>\n",
       "    <tr>\n",
       "      <th>7</th>\n",
       "      <td>Residual</td>\n",
       "      <td>3.909</td>\n",
       "      <td>48.0</td>\n",
       "      <td>0.081</td>\n",
       "      <td>NaN</td>\n",
       "      <td>NaN</td>\n",
       "      <td>NaN</td>\n",
       "    </tr>\n",
       "  </tbody>\n",
       "</table>\n",
       "</div>"
      ],
      "text/plain": [
       "                     Source     SS    DF     MS      F  p-unc    np2\n",
       "0                    FatorA  0.253   1.0  0.253  3.111  0.084  0.061\n",
       "1                    FatorB  0.140   1.0  0.140  1.722  0.196  0.035\n",
       "2                    FatorC  0.000   2.0  0.000  0.001  0.999  0.000\n",
       "3           FatorA * FatorB  0.021   1.0  0.021  0.263  0.611  0.005\n",
       "4           FatorA * FatorC  0.271   2.0  0.136  1.664  0.200  0.065\n",
       "5           FatorB * FatorC  0.479   2.0  0.239  2.940  0.062  0.109\n",
       "6  FatorA * FatorB * FatorC  0.020   2.0  0.010  0.120  0.887  0.005\n",
       "7                  Residual  3.909  48.0  0.081    NaN    NaN    NaN"
      ]
     },
     "execution_count": 7,
     "metadata": {},
     "output_type": "execute_result"
    }
   ],
   "source": [
    "df.anova(dv='y', between=factors, ss_type=3).round(3)\n"
   ]
  },
  {
   "cell_type": "code",
   "execution_count": null,
   "id": "292444f3-3ab7-4c94-a7ff-0eedf056d883",
   "metadata": {},
   "outputs": [],
   "source": []
  }
 ],
 "metadata": {
  "kernelspec": {
   "display_name": "Python 3 (ipykernel)",
   "language": "python",
   "name": "python3"
  },
  "language_info": {
   "codemirror_mode": {
    "name": "ipython",
    "version": 3
   },
   "file_extension": ".py",
   "mimetype": "text/x-python",
   "name": "python",
   "nbconvert_exporter": "python",
   "pygments_lexer": "ipython3",
   "version": "3.11.0"
  }
 },
 "nbformat": 4,
 "nbformat_minor": 5
}
