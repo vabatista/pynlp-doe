{
 "cells": [
  {
   "cell_type": "code",
   "execution_count": 6,
   "id": "d9aa9d8a-f2c2-4b26-84b5-4be8cac8fa2b",
   "metadata": {
    "tags": []
   },
   "outputs": [
    {
     "data": {
      "text/plain": [
       "{'Source of variation': ['Factor', 'Error', 'Total'],\n",
       " 'Sum of squares': [291.66666666666674, 31.333333333333332, 323.0],\n",
       " 'Degrees of freedom': [1, 10, 11],\n",
       " 'Mean square': [291.66666666666674, 3.1333333333333333, '-'],\n",
       " 'F statistic': [93.08510638297875, '-', '-'],\n",
       " 'p value': [2.205264786399596e-06, '-', '-']}"
      ]
     },
     "execution_count": 6,
     "metadata": {},
     "output_type": "execute_result"
    }
   ],
   "source": [
    "import numpy as np\n",
    "from scipy.stats import f\n",
    "\n",
    "\n",
    "def calculate_ANOVA_metrics(data, levels_list, replicates):\n",
    "    num_factors = len(levels_list)\n",
    "    num_treatments = np.prod(levels_list)\n",
    "    grand_mean = np.mean(data)\n",
    "    ss_total = np.sum((data - grand_mean)**2)\n",
    "    ss_factor = 0\n",
    "    ss_error = 0\n",
    "\n",
    "    #coefficient_matrix = get_coefficient_matrix(levels_list, replicates)\n",
    "    #projection_matrix = np.dot(np.linalg.inv(np.dot(coefficient_matrix.T, coefficient_matrix)), coefficient_matrix.T)\n",
    "\n",
    "    for i in range(num_treatments):\n",
    "        factor_mean = np.mean(data[i*replicates:(i+1)*replicates])\n",
    "        ss_factor += replicates*(factor_mean - grand_mean)**2\n",
    "        ss_error += np.sum((data[i*replicates:(i+1)*replicates] - factor_mean)**2)\n",
    "\n",
    "    dof_factor = num_factors - 1\n",
    "    dof_error = num_treatments*replicates - num_factors\n",
    "    dof_total = num_treatments*replicates - 1\n",
    "\n",
    "    ms_factor = ss_factor/dof_factor\n",
    "    ms_error = ss_error/dof_error\n",
    "    f_statistic = ms_factor/ms_error\n",
    "    p_value = f.sf(f_statistic, dof_factor, dof_error)\n",
    "\n",
    "    return {\n",
    "        'Source of variation': ['Factor', 'Error', 'Total'],\n",
    "        'Sum of squares': [ss_factor, ss_error, ss_total],\n",
    "        'Degrees of freedom': [dof_factor, dof_error, dof_total],\n",
    "        'Mean square': [ms_factor, ms_error, '-'],\n",
    "        'F statistic': [f_statistic, '-', '-'],\n",
    "        'p value': [p_value, '-', '-']\n",
    "    }\n",
    "\n",
    "\n",
    "y_measures = np.array([28,25,27,36,32,32,18,19,23,31,30,29])\n",
    "levels_list = np.array([2,2])\n",
    "replicates = 3\n",
    "\n",
    "calculate_ANOVA_metrics(y_measures, levels_list, replicates)\n"
   ]
  },
  {
   "cell_type": "code",
   "execution_count": 3,
   "id": "cfc68d2e-4d79-4339-a348-9be1e4b8cd92",
   "metadata": {
    "tags": []
   },
   "outputs": [],
   "source": [
    "def calculate_ANOVA_metrics2(data, levels_list, replicates):\n",
    "    # Get coefficient matrix\n",
    "    coeff_matrix = get_coefficient_matrix(levels_list, replicates)\n",
    "\n",
    "    # Calculate total sum of squares\n",
    "    grand_mean = np.mean(data)\n",
    "    SS_total = np.sum((data - grand_mean) ** 2)\n",
    "\n",
    "    # Calculate sum of squares for each factor\n",
    "    SS_factors = []\n",
    "    for i in range(len(levels_list)):\n",
    "        factor_mean = np.mean(data[np.sum(coeff_matrix[:, :i], axis=1) == 0])\n",
    "        SS_factor = replicates * np.sum((factor_mean - grand_mean) ** 2)\n",
    "        SS_factors.append(SS_factor)\n",
    "\n",
    "    # Calculate sum of squares for error term\n",
    "    SS_error = SS_total - np.sum(SS_factors)\n",
    "\n",
    "    # Calculate degrees of freedom\n",
    "    df_total = np.prod(levels_list) * replicates - 1\n",
    "    df_factors = np.array(levels_list) - 1\n",
    "    df_error = df_total - np.sum(df_factors)\n",
    "\n",
    "    # Calculate mean squares\n",
    "    MS_factors = np.array(SS_factors) / df_factors\n",
    "    MS_error = SS_error / df_error\n",
    "\n",
    "    # Calculate F-metric and p-value for each factor\n",
    "    F_factors = MS_factors / MS_error\n",
    "    p_factors = f.sf(F_factors, df_factors, df_error)\n",
    "\n",
    "    return {\n",
    "        'SS_total': SS_total,\n",
    "        'SS_factors': SS_factors,\n",
    "        'SS_error': SS_error,\n",
    "        'df_total': df_total,\n",
    "        'df_factors': df_factors,\n",
    "        'df_error': df_error,\n",
    "        'MS_factors': MS_factors,\n",
    "        'MS_error': MS_error,\n",
    "        'F_factors': F_factors,\n",
    "        'p_factors': p_factors\n",
    "    }"
   ]
  },
  {
   "cell_type": "code",
   "execution_count": 4,
   "id": "9b10171b-e874-415d-bd4b-347a88c22559",
   "metadata": {
    "tags": []
   },
   "outputs": [
    {
     "data": {
      "text/plain": [
       "{'SS_total': 323.0,\n",
       " 'SS_factors': [0.0, 1.6875],\n",
       " 'SS_error': 321.3125,\n",
       " 'df_total': 11,\n",
       " 'df_factors': array([1, 1]),\n",
       " 'df_error': 9,\n",
       " 'MS_factors': array([0.    , 1.6875]),\n",
       " 'MS_error': 35.701388888888886,\n",
       " 'F_factors': array([0.        , 0.04726707]),\n",
       " 'p_factors': array([1.        , 0.83273777])}"
      ]
     },
     "execution_count": 4,
     "metadata": {},
     "output_type": "execute_result"
    }
   ],
   "source": [
    "calculate_ANOVA_metrics2(y_measures, levels_list, replicates)"
   ]
  },
  {
   "cell_type": "code",
   "execution_count": 5,
   "id": "300dd8c6-fccb-4983-aafe-32f57125ad1e",
   "metadata": {
    "tags": []
   },
   "outputs": [
    {
     "data": {
      "text/plain": [
       "array([[-0.5,  0. ,  0. ,  0. ],\n",
       "       [ 0.5, -0.5,  0. ,  0. ],\n",
       "       [ 1.5,  0. ,  0. ,  0. ],\n",
       "       [ 2.5,  0.5,  0. ,  0. ],\n",
       "       [ 0. ,  1. ,  0. ,  0. ],\n",
       "       [ 0. ,  1. ,  0. ,  0. ],\n",
       "       [ 0. ,  0. ,  1. ,  0. ],\n",
       "       [ 0. ,  0. ,  1. ,  0. ],\n",
       "       [ 0. ,  0. ,  1. ,  0. ],\n",
       "       [ 0. ,  0. ,  0. ,  1. ],\n",
       "       [ 0. ,  0. ,  0. ,  1. ],\n",
       "       [ 0. ,  0. ,  0. ,  1. ]])"
      ]
     },
     "execution_count": 5,
     "metadata": {},
     "output_type": "execute_result"
    }
   ],
   "source": [
    "get_coefficient_matrix(levels_list, replicates)"
   ]
  },
  {
   "cell_type": "code",
   "execution_count": null,
   "id": "d8181f91-4c22-426c-a07d-e508060d8666",
   "metadata": {},
   "outputs": [],
   "source": []
  }
 ],
 "metadata": {
  "kernelspec": {
   "display_name": "Python 3 (ipykernel)",
   "language": "python",
   "name": "python3"
  },
  "language_info": {
   "codemirror_mode": {
    "name": "ipython",
    "version": 3
   },
   "file_extension": ".py",
   "mimetype": "text/x-python",
   "name": "python",
   "nbconvert_exporter": "python",
   "pygments_lexer": "ipython3",
   "version": "3.11.0"
  }
 },
 "nbformat": 4,
 "nbformat_minor": 5
}
